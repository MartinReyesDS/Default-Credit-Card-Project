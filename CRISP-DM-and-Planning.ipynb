{
 "cells": [
  {
   "attachments": {},
   "cell_type": "markdown",
   "metadata": {},
   "source": [
    "# CRoss-Industry Standard Process for Data Mining (CRISP-DM)\n",
    "<img src=\"CRISP-DM-Image.png\"  style=\"width:300px;height:300px\"/>"
   ]
  },
  {
   "cell_type": "markdown",
   "metadata": {},
   "source": [
    "## Business Understanding:\n",
    "\n",
    "- Questions:\n",
    "    - Who will be using the model and insights? Stakeholders? Who will be directly affected by this project?\n",
    "        - Credit Card Companies\n",
    "            - Taiwanese\n",
    "    - How will they be using it? How will this help the goals of the business or organization overall?\n",
    "        - Predict credit card defaulters based on their information and history\n",
    "    - What business problem(s) will this Data Science project solve for the organization?\n",
    "    - What problems are inside the scope of this project?\n",
    "        - Identify potential defaulters\n",
    "    - What problems are outside the scope of this project?\n",
    "    - What data sources are available to us?\n",
    "        - UCI Machine Learning Repository / Kaggle dataset on credit card clients in Taiwan\n",
    "    - What is the expected timeline for this project? Are there hard deadlines or is this an ongoing project?\n",
    "    - Do stakeholders from different parts of the company or organization all have the exact same understanding about what this project is and isn't?"
   ]
  },
  {
   "cell_type": "markdown",
   "metadata": {},
   "source": [
    "## Data Understanding:\n",
    "\n",
    "- Questions:\n",
    "    - Where is our data coming from and what does the information contained within the data tell us?\n",
    "    - What data is available to us? Where does it live? Do we have the data, or can we scrape/buy/source the data from somewhere else? Who controls the data sources, and what steps are needed to get access to the data?\n",
    "        - Download the dataset from the UCI Machine Learning Repository\n",
    "        - We likely won't be able to find more information a\n",
    "    - What is our target?\n",
    "        - 'DEFAULT' – binary variable (0 or 1) indicating whether a default payment will occur in the month\n",
    "    - What predictors are available to us?\n",
    "        - abc\n",
    "    - What data types are the predictors we'll be working with?\n",
    "        - All integers\n",
    "            - Continuous: \n",
    "            - Categorical: \n",
    "    - What is the distribution of our data?\n",
    "    - How many observations does our dataset contain? Do we have a lot of data? Only a little?\n",
    "        - 30,000 customers\n",
    "    - Do we have enough data to build a model? Will we need to use resampling methods?\n",
    "        - Will need to oversample and/or downsample depending on our ML algorithm.\n",
    "    - How do we know the data is correct? How is the data collected? Is there a chance the data could be wrong?\n",
    "        - abc"
   ]
  },
  {
   "cell_type": "markdown",
   "metadata": {},
   "source": [
    "## Modeling:\n",
    "\n",
    "- Try to build and tune models to get the highest performance possible on our task.\n",
    "\n",
    "- Consider the following questions during the modeling step:\n",
    "\n",
    "    - Is this a classification task? A regression task? Something else?\n",
    "        - Binary Classification\n",
    "    - What models will we try?\n",
    "        - KNN, Decision Trees, XGBoost, SVM\n",
    "    - How do we deal with overfitting?\n",
    "        - Tune regulatization parameters\n",
    "        - Compare training and testing accuracy\n",
    "    - Do we need to use regularization or not?\n",
    "        - Yes\n",
    "    - What sort of validation strategy will we be using to check that our model works well on unseen data?\n",
    "        - Test-train split and cross validation in our GridSearchCV\n",
    "    - What loss functions will we use?\n",
    "    - What threshold of performance do we consider as successful?\n",
    "        - We want to optimize recall score because our focus is on predicting defaulters. However, because we can technically classify almost every customer as a defaulter and get a high recall score, we will actually use Area Under the Receiver Operating Characteristic Curve (ROC AUC) to ensure our"
   ]
  },
  {
   "cell_type": "markdown",
   "metadata": {},
   "source": [
    "## Evaluation:\n",
    "\n",
    "- Does our model solve the problems that we outlined all the way back during step 1? Why or why not?\n",
    "- Evaluating the results and see if new questions arise. Consider changing our approach to the problem if results are not satisfactory. Do the results of our models show us something important that we had originally failed to consider the goal of the project or the scope.\n",
    "- Should we reconsider our approach in cleaning and structuring the data or how we frame the project as a whole?"
   ]
  },
  {
   "cell_type": "markdown",
   "metadata": {},
   "source": [
    "## Deployment:\n",
    "\n",
    "- Work with stakeholders to determine the best way to implement models and insights. For example, maybe set up an automated ETL (Extract-Transform-Load) pipelines of raw data in order to feed into a database and reformat it so that it is ready for modeling.\n",
    "- Actively work to determine the best course of action for getting the results of your project into the wild, and you'll often be involved with building everything needed to put the software into production."
   ]
  },
  {
   "cell_type": "code",
   "execution_count": null,
   "metadata": {},
   "outputs": [],
   "source": []
  }
 ],
 "metadata": {
  "kernelspec": {
   "display_name": "Python 3",
   "language": "python",
   "name": "python3"
  },
  "language_info": {
   "codemirror_mode": {
    "name": "ipython",
    "version": 3
   },
   "file_extension": ".py",
   "mimetype": "text/x-python",
   "name": "python",
   "nbconvert_exporter": "python",
   "pygments_lexer": "ipython3",
   "version": "3.8.5"
  },
  "toc": {
   "base_numbering": 1,
   "nav_menu": {},
   "number_sections": false,
   "sideBar": true,
   "skip_h1_title": true,
   "title_cell": "Table of Contents",
   "title_sidebar": "Contents",
   "toc_cell": false,
   "toc_position": {},
   "toc_section_display": true,
   "toc_window_display": true
  }
 },
 "nbformat": 4,
 "nbformat_minor": 4
}
