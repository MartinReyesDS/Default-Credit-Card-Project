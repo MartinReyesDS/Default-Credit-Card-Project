{
 "cells": [
  {
   "cell_type": "markdown",
   "metadata": {},
   "source": [
    "# Credit Card Defaulters Prediction and Analysis Project\n",
    "\n",
    "<img src=\"images/CC-Default1.png\" style=\"width:550px;height:250px\"/>\n",
    "\n",
    "**Author**: Martin Reyes\n",
    "\n",
    "## Table of contents\n",
    "2. [Project Overview](#paragraph1)\n",
    "3. [Business Problem](#paragraph2)\n",
    "4. [Data](#paragraph3)\n",
    "5. [Methods](#paragraph4)\n",
    "7. [Results](#paragraph6)\n",
    "    1. [Next Steps](#paragraph6)\n",
    "\n",
    "<hr style=\"border:1px solid gray\"> </hr>"
   ]
  },
  {
   "cell_type": "markdown",
   "metadata": {},
   "source": [
    "## Project Overview\n",
    "\n",
    "In this project, a dataset with credit card client information is analyzed to build insights. These insights include which features are most important or relevant with whether or not the customer will default on their next payment and how the features compare with each other in terms of default rate. After the data is analyzed, machine learning models are trained, tuned, and evaluated in order to best predict if a customer will default.\n",
    "\n",
    "<hr style=\"border:1px solid gray\"> </hr>\n",
    "\n",
    "## Business Problem\n",
    "\n",
    "A credit card company in Taiwan wants to know which feature is the biggest predictor in whether a customer will default their next payment. The company also wants to develop a machine learning algorithm in order to predict defaulters. They have emphasized that they want the model to predict as many defaulters. Although the costs of mistakenly predicting a non-defaulter as a defaulter is not high, the company wants the algorithm to at least predict half of the non-defaulters correctly.\n",
    "\n",
    "<hr style=\"border:1px solid gray\"> </hr>"
   ]
  },
  {
   "cell_type": "markdown",
   "metadata": {
    "ExecuteTime": {
     "end_time": "2021-02-18T23:02:20.726091Z",
     "start_time": "2021-02-18T23:02:20.691937Z"
    }
   },
   "source": [
    "## Data\n",
    "\n",
    "[Data](https://archive.ics.uci.edu/ml/datasets/default+of+credit+card+clients#) is from the UCI Machine Learning Repository can be extracted to customer information as well as the target feature of this project, whether or not the customer defaulted on their credit card. This data can be found in the \"data\" folder along with the cleaned version of this dataset.\n",
    "\n",
    "<hr style=\"border:1px solid gray\"> </hr>\n",
    "\n",
    "## Methods\n",
    "\n",
    "This project uses EDA to gain insights on the customers and machine learning algorithms to predict whether or not the customer will fail to make the next payment on their credit card. In this project, the main variable of focus (target) is the binary variable, \"DEFAULT\", which tells us whether or not the customer defaulted. Most of the other variables (features) will be used to gain insight on the customers and create machine learning models to predict the target variable.\n",
    "\n",
    "\n",
    "<hr style=\"border:1px solid gray\"> </hr>\n",
    "\n",
    "## Results\n",
    "\n",
    "- Insights:\n",
    "    - Pay history is the most important feature in predicting defaulters, especially recent payment history.\n",
    "- Optimal Model: XGBoost\n",
    "    - .88 recall score\n",
    "    \n",
    "### Next Steps\n",
    "\n",
    "- Use advanced ML and Deep Learning techniques, like a neural network\n",
    "- Use advanced dimensionality reduction like PCA and LDA for many of the algorithms\n",
    "- Explore the data more for insights\n",
    "- Gather more data\n",
    "\n",
    "<hr style=\"border:1px solid gray\"> </hr>\n",
    "\n",
    "## For More Information\n",
    "\n",
    "Please review the full analysis and modeling in [the Jupyter Notebook](./EDA-and-Modeling.ipynb) or the [presentation](./Movie_Recommendations_Presentation.pdf).\n",
    "\n",
    "For any additional questions, please contact **Martin Reyes** at **martinreyes.eng@gmail.com**\n",
    "\n",
    "## Repository Structure\n",
    "\n",
    "```\n",
    "├── data\n",
    "├── images\n",
    "├── CRISP-DM-and-Planning.ipynb\n",
    "├── EDA-and-Modeling.ipynb\n",
    "├── Obtain-and-Clean-Data.ipynb\n",
    "├── Credit-Card-Defaulters-Presentation.pdf\n",
    "├── README.md\n",
    "```"
   ]
  },
  {
   "cell_type": "code",
   "execution_count": null,
   "metadata": {},
   "outputs": [],
   "source": []
  }
 ],
 "metadata": {
  "kernelspec": {
   "display_name": "Python 3",
   "language": "python",
   "name": "python3"
  },
  "language_info": {
   "codemirror_mode": {
    "name": "ipython",
    "version": 3
   },
   "file_extension": ".py",
   "mimetype": "text/x-python",
   "name": "python",
   "nbconvert_exporter": "python",
   "pygments_lexer": "ipython3",
   "version": "3.8.5"
  },
  "toc": {
   "base_numbering": 1,
   "nav_menu": {},
   "number_sections": false,
   "sideBar": true,
   "skip_h1_title": true,
   "title_cell": "Table of Contents",
   "title_sidebar": "Contents",
   "toc_cell": false,
   "toc_position": {},
   "toc_section_display": true,
   "toc_window_display": true
  }
 },
 "nbformat": 4,
 "nbformat_minor": 4
}
