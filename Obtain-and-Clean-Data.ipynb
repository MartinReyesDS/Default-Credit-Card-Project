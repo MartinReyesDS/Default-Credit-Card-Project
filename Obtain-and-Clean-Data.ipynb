{
 "cells": [
  {
   "cell_type": "markdown",
   "metadata": {},
   "source": [
    "# Default of Credit Card Clients Dataset\n",
    "\n",
    "Dataset can be found [here](https://archive.ics.uci.edu/ml/datasets/default+of+credit+card+clients#) "
   ]
  },
  {
   "cell_type": "markdown",
   "metadata": {},
   "source": [
    "### Import data, inspect, and rename columns"
   ]
  },
  {
   "cell_type": "code",
   "execution_count": 121,
   "metadata": {
    "ExecuteTime": {
     "end_time": "2021-02-11T05:03:27.966639Z",
     "start_time": "2021-02-11T05:03:27.963786Z"
    }
   },
   "outputs": [],
   "source": [
    "import pandas as pd\n",
    "import numpy as np\n",
    "pd.set_option('display.max_columns', 500) #view all columns\n",
    "pd.set_option('display.max_rows', 500) #view all columns"
   ]
  },
  {
   "cell_type": "code",
   "execution_count": 122,
   "metadata": {
    "ExecuteTime": {
     "end_time": "2021-02-11T05:03:30.066955Z",
     "start_time": "2021-02-11T05:03:28.042995Z"
    }
   },
   "outputs": [
    {
     "name": "stdout",
     "output_type": "stream",
     "text": [
      "Index(['ID', 'LIMIT_BAL', 'SEX', 'EDUCATION', 'MARRIAGE', 'AGE', 'PAY_0',\n",
      "       'PAY_2', 'PAY_3', 'PAY_4', 'PAY_5', 'PAY_6', 'BILL_AMT1', 'BILL_AMT2',\n",
      "       'BILL_AMT3', 'BILL_AMT4', 'BILL_AMT5', 'BILL_AMT6', 'PAY_AMT1',\n",
      "       'PAY_AMT2', 'PAY_AMT3', 'PAY_AMT4', 'PAY_AMT5', 'PAY_AMT6',\n",
      "       'default payment next month'],\n",
      "      dtype='object')\n"
     ]
    }
   ],
   "source": [
    "df = pd.read_excel('data/default_of_credit_card_clients.xls', header = 1)\n",
    "print(df.columns)"
   ]
  },
  {
   "cell_type": "code",
   "execution_count": 123,
   "metadata": {
    "ExecuteTime": {
     "end_time": "2021-02-11T05:03:30.084348Z",
     "start_time": "2021-02-11T05:03:30.069103Z"
    },
    "scrolled": true
   },
   "outputs": [
    {
     "data": {
      "text/html": [
       "<div>\n",
       "<style scoped>\n",
       "    .dataframe tbody tr th:only-of-type {\n",
       "        vertical-align: middle;\n",
       "    }\n",
       "\n",
       "    .dataframe tbody tr th {\n",
       "        vertical-align: top;\n",
       "    }\n",
       "\n",
       "    .dataframe thead th {\n",
       "        text-align: right;\n",
       "    }\n",
       "</style>\n",
       "<table border=\"1\" class=\"dataframe\">\n",
       "  <thead>\n",
       "    <tr style=\"text-align: right;\">\n",
       "      <th></th>\n",
       "      <th>ID</th>\n",
       "      <th>LIMIT_BAL</th>\n",
       "      <th>SEX</th>\n",
       "      <th>EDUCATION</th>\n",
       "      <th>MARRIAGE</th>\n",
       "      <th>AGE</th>\n",
       "      <th>PAY_1</th>\n",
       "      <th>PAY_2</th>\n",
       "      <th>PAY_3</th>\n",
       "      <th>PAY_4</th>\n",
       "      <th>PAY_5</th>\n",
       "      <th>PAY_6</th>\n",
       "      <th>BILL_AMT1</th>\n",
       "      <th>BILL_AMT2</th>\n",
       "      <th>BILL_AMT3</th>\n",
       "      <th>BILL_AMT4</th>\n",
       "      <th>BILL_AMT5</th>\n",
       "      <th>BILL_AMT6</th>\n",
       "      <th>PAY_AMT1</th>\n",
       "      <th>PAY_AMT2</th>\n",
       "      <th>PAY_AMT3</th>\n",
       "      <th>PAY_AMT4</th>\n",
       "      <th>PAY_AMT5</th>\n",
       "      <th>PAY_AMT6</th>\n",
       "      <th>DEFAULT</th>\n",
       "    </tr>\n",
       "  </thead>\n",
       "  <tbody>\n",
       "    <tr>\n",
       "      <th>0</th>\n",
       "      <td>1</td>\n",
       "      <td>20000</td>\n",
       "      <td>2</td>\n",
       "      <td>2</td>\n",
       "      <td>1</td>\n",
       "      <td>24</td>\n",
       "      <td>2</td>\n",
       "      <td>2</td>\n",
       "      <td>-1</td>\n",
       "      <td>-1</td>\n",
       "      <td>-2</td>\n",
       "      <td>-2</td>\n",
       "      <td>3913</td>\n",
       "      <td>3102</td>\n",
       "      <td>689</td>\n",
       "      <td>0</td>\n",
       "      <td>0</td>\n",
       "      <td>0</td>\n",
       "      <td>0</td>\n",
       "      <td>689</td>\n",
       "      <td>0</td>\n",
       "      <td>0</td>\n",
       "      <td>0</td>\n",
       "      <td>0</td>\n",
       "      <td>1</td>\n",
       "    </tr>\n",
       "    <tr>\n",
       "      <th>1</th>\n",
       "      <td>2</td>\n",
       "      <td>120000</td>\n",
       "      <td>2</td>\n",
       "      <td>2</td>\n",
       "      <td>2</td>\n",
       "      <td>26</td>\n",
       "      <td>-1</td>\n",
       "      <td>2</td>\n",
       "      <td>0</td>\n",
       "      <td>0</td>\n",
       "      <td>0</td>\n",
       "      <td>2</td>\n",
       "      <td>2682</td>\n",
       "      <td>1725</td>\n",
       "      <td>2682</td>\n",
       "      <td>3272</td>\n",
       "      <td>3455</td>\n",
       "      <td>3261</td>\n",
       "      <td>0</td>\n",
       "      <td>1000</td>\n",
       "      <td>1000</td>\n",
       "      <td>1000</td>\n",
       "      <td>0</td>\n",
       "      <td>2000</td>\n",
       "      <td>1</td>\n",
       "    </tr>\n",
       "    <tr>\n",
       "      <th>2</th>\n",
       "      <td>3</td>\n",
       "      <td>90000</td>\n",
       "      <td>2</td>\n",
       "      <td>2</td>\n",
       "      <td>2</td>\n",
       "      <td>34</td>\n",
       "      <td>0</td>\n",
       "      <td>0</td>\n",
       "      <td>0</td>\n",
       "      <td>0</td>\n",
       "      <td>0</td>\n",
       "      <td>0</td>\n",
       "      <td>29239</td>\n",
       "      <td>14027</td>\n",
       "      <td>13559</td>\n",
       "      <td>14331</td>\n",
       "      <td>14948</td>\n",
       "      <td>15549</td>\n",
       "      <td>1518</td>\n",
       "      <td>1500</td>\n",
       "      <td>1000</td>\n",
       "      <td>1000</td>\n",
       "      <td>1000</td>\n",
       "      <td>5000</td>\n",
       "      <td>0</td>\n",
       "    </tr>\n",
       "    <tr>\n",
       "      <th>3</th>\n",
       "      <td>4</td>\n",
       "      <td>50000</td>\n",
       "      <td>2</td>\n",
       "      <td>2</td>\n",
       "      <td>1</td>\n",
       "      <td>37</td>\n",
       "      <td>0</td>\n",
       "      <td>0</td>\n",
       "      <td>0</td>\n",
       "      <td>0</td>\n",
       "      <td>0</td>\n",
       "      <td>0</td>\n",
       "      <td>46990</td>\n",
       "      <td>48233</td>\n",
       "      <td>49291</td>\n",
       "      <td>28314</td>\n",
       "      <td>28959</td>\n",
       "      <td>29547</td>\n",
       "      <td>2000</td>\n",
       "      <td>2019</td>\n",
       "      <td>1200</td>\n",
       "      <td>1100</td>\n",
       "      <td>1069</td>\n",
       "      <td>1000</td>\n",
       "      <td>0</td>\n",
       "    </tr>\n",
       "    <tr>\n",
       "      <th>4</th>\n",
       "      <td>5</td>\n",
       "      <td>50000</td>\n",
       "      <td>1</td>\n",
       "      <td>2</td>\n",
       "      <td>1</td>\n",
       "      <td>57</td>\n",
       "      <td>-1</td>\n",
       "      <td>0</td>\n",
       "      <td>-1</td>\n",
       "      <td>0</td>\n",
       "      <td>0</td>\n",
       "      <td>0</td>\n",
       "      <td>8617</td>\n",
       "      <td>5670</td>\n",
       "      <td>35835</td>\n",
       "      <td>20940</td>\n",
       "      <td>19146</td>\n",
       "      <td>19131</td>\n",
       "      <td>2000</td>\n",
       "      <td>36681</td>\n",
       "      <td>10000</td>\n",
       "      <td>9000</td>\n",
       "      <td>689</td>\n",
       "      <td>679</td>\n",
       "      <td>0</td>\n",
       "    </tr>\n",
       "  </tbody>\n",
       "</table>\n",
       "</div>"
      ],
      "text/plain": [
       "   ID  LIMIT_BAL  SEX  EDUCATION  MARRIAGE  AGE  PAY_1  PAY_2  PAY_3  PAY_4  \\\n",
       "0   1      20000    2          2         1   24      2      2     -1     -1   \n",
       "1   2     120000    2          2         2   26     -1      2      0      0   \n",
       "2   3      90000    2          2         2   34      0      0      0      0   \n",
       "3   4      50000    2          2         1   37      0      0      0      0   \n",
       "4   5      50000    1          2         1   57     -1      0     -1      0   \n",
       "\n",
       "   PAY_5  PAY_6  BILL_AMT1  BILL_AMT2  BILL_AMT3  BILL_AMT4  BILL_AMT5  \\\n",
       "0     -2     -2       3913       3102        689          0          0   \n",
       "1      0      2       2682       1725       2682       3272       3455   \n",
       "2      0      0      29239      14027      13559      14331      14948   \n",
       "3      0      0      46990      48233      49291      28314      28959   \n",
       "4      0      0       8617       5670      35835      20940      19146   \n",
       "\n",
       "   BILL_AMT6  PAY_AMT1  PAY_AMT2  PAY_AMT3  PAY_AMT4  PAY_AMT5  PAY_AMT6  \\\n",
       "0          0         0       689         0         0         0         0   \n",
       "1       3261         0      1000      1000      1000         0      2000   \n",
       "2      15549      1518      1500      1000      1000      1000      5000   \n",
       "3      29547      2000      2019      1200      1100      1069      1000   \n",
       "4      19131      2000     36681     10000      9000       689       679   \n",
       "\n",
       "   DEFAULT  \n",
       "0        1  \n",
       "1        1  \n",
       "2        0  \n",
       "3        0  \n",
       "4        0  "
      ]
     },
     "execution_count": 123,
     "metadata": {},
     "output_type": "execute_result"
    }
   ],
   "source": [
    "df.rename(columns={'default payment next month':'DEFAULT','PAY_0':'PAY_1'}, inplace=True)\n",
    "df.head()"
   ]
  },
  {
   "cell_type": "markdown",
   "metadata": {},
   "source": [
    "Columns: \n",
    "- **ID**: Customer ID\n",
    "- **LIMIT_BAL**: Amount of the given credit (NT dollar)\n",
    "- **SEX**: 1 = male, 2 = female\n",
    "- **EDUCATION**: 1 = graduate school; 2 = university; 3 = high school; 4 = others\n",
    "- **MARRIAGE**: 1 = married; 2 = single; 3 = others\n",
    "- **PAY_i**: History of past payment. We tracked the past monthly payment records (from April to September, 2005) as follows: Pay_1 = the repayment status in September, 2005; Pay_2 = the repayment status in August, 2005; . . .; Pay_6 = the repayment status in April, 2005. The measurement scale for the repayment status is: -1 = pay duly; 1 = payment delay for one month; 2 = payment delay for two months; . . .; 8 = payment delay for eight months; 9 = payment delay for nine months and above\n",
    "- **BILL_AMTi**: Amount of bill statement (NT dollar). Bill_AMT1 = amount of bill statement in September, 2005; Bill_AMT6 = amount of bill statement in August, 2005; . . .; Bill_AMT6 = amount of bill statement in April, 2005\n",
    "- **PAY_AMTi**: Amount of previous payment (NT dollar). PAY_AMT1 = amount paid in September, 2005; PAY_AMT2 = amount paid in August, 2005; . . .;PAY_AMT6 = amount paid in April, 2005.\n",
    "- **DEFAULT**: default payment next month"
   ]
  },
  {
   "cell_type": "code",
   "execution_count": 124,
   "metadata": {
    "ExecuteTime": {
     "end_time": "2021-02-11T05:03:30.199627Z",
     "start_time": "2021-02-11T05:03:30.086189Z"
    }
   },
   "outputs": [
    {
     "name": "stdout",
     "output_type": "stream",
     "text": [
      "(30000, 25) \n",
      "\n",
      "\"ID\" Value Counts:\n",
      " 2047     0.000033\n",
      "1322     0.000033\n",
      "15629    0.000033\n",
      "9486     0.000033\n",
      "11535    0.000033\n",
      "Name: ID, dtype: float64 \n",
      " NumUnique: 30000 \n",
      "\n",
      "\"LIMIT_BAL\" Value Counts:\n",
      " 50000     0.112167\n",
      "20000     0.065867\n",
      "30000     0.053667\n",
      "80000     0.052233\n",
      "200000    0.050933\n",
      "Name: LIMIT_BAL, dtype: float64 \n",
      " NumUnique: 81 \n",
      "\n",
      "\"SEX\" Value Counts:\n",
      " 2    0.603733\n",
      "1    0.396267\n",
      "Name: SEX, dtype: float64 \n",
      " NumUnique: 2 \n",
      "\n",
      "\"EDUCATION\" Value Counts:\n",
      " 2    0.467667\n",
      "1    0.352833\n",
      "3    0.163900\n",
      "5    0.009333\n",
      "4    0.004100\n",
      "Name: EDUCATION, dtype: float64 \n",
      " NumUnique: 7 \n",
      "\n",
      "\"MARRIAGE\" Value Counts:\n",
      " 2    0.532133\n",
      "1    0.455300\n",
      "3    0.010767\n",
      "0    0.001800\n",
      "Name: MARRIAGE, dtype: float64 \n",
      " NumUnique: 4 \n",
      "\n",
      "\"AGE\" Value Counts:\n",
      " 29    0.053500\n",
      "27    0.049233\n",
      "28    0.046967\n",
      "30    0.046500\n",
      "26    0.041867\n",
      "Name: AGE, dtype: float64 \n",
      " NumUnique: 56 \n",
      "\n",
      "\"PAY_1\" Value Counts:\n",
      "  0    0.491233\n",
      "-1    0.189533\n",
      " 1    0.122933\n",
      "-2    0.091967\n",
      " 2    0.088900\n",
      "Name: PAY_1, dtype: float64 \n",
      " NumUnique: 11 \n",
      "\n",
      "\"PAY_2\" Value Counts:\n",
      "  0    0.524333\n",
      "-1    0.201667\n",
      " 2    0.130900\n",
      "-2    0.126067\n",
      " 3    0.010867\n",
      "Name: PAY_2, dtype: float64 \n",
      " NumUnique: 11 \n",
      "\n",
      "\"PAY_3\" Value Counts:\n",
      "  0    0.525467\n",
      "-1    0.197933\n",
      "-2    0.136167\n",
      " 2    0.127300\n",
      " 3    0.008000\n",
      "Name: PAY_3, dtype: float64 \n",
      " NumUnique: 11 \n",
      "\n",
      "\"PAY_4\" Value Counts:\n",
      "  0    0.548500\n",
      "-1    0.189567\n",
      "-2    0.144933\n",
      " 2    0.105300\n",
      " 3    0.006000\n",
      "Name: PAY_4, dtype: float64 \n",
      " NumUnique: 11 \n",
      "\n",
      "\"PAY_5\" Value Counts:\n",
      "  0    0.564900\n",
      "-1    0.184633\n",
      "-2    0.151533\n",
      " 2    0.087533\n",
      " 3    0.005933\n",
      "Name: PAY_5, dtype: float64 \n",
      " NumUnique: 10 \n",
      "\n",
      "\"PAY_6\" Value Counts:\n",
      "  0    0.542867\n",
      "-1    0.191333\n",
      "-2    0.163167\n",
      " 2    0.092200\n",
      " 3    0.006133\n",
      "Name: PAY_6, dtype: float64 \n",
      " NumUnique: 10 \n",
      "\n",
      "\"BILL_AMT1\" Value Counts:\n",
      " 0      0.066933\n",
      "390    0.008133\n",
      "780    0.002533\n",
      "326    0.002400\n",
      "316    0.002100\n",
      "Name: BILL_AMT1, dtype: float64 \n",
      " NumUnique: 22723 \n",
      "\n",
      "\"BILL_AMT2\" Value Counts:\n",
      " 0      0.083533\n",
      "390    0.007700\n",
      "326    0.002500\n",
      "780    0.002500\n",
      "316    0.002400\n",
      "Name: BILL_AMT2, dtype: float64 \n",
      " NumUnique: 22346 \n",
      "\n",
      "\"BILL_AMT3\" Value Counts:\n",
      " 0      0.095667\n",
      "390    0.009167\n",
      "780    0.002467\n",
      "326    0.002100\n",
      "316    0.002067\n",
      "Name: BILL_AMT3, dtype: float64 \n",
      " NumUnique: 22026 \n",
      "\n",
      "\"BILL_AMT4\" Value Counts:\n",
      " 0      0.106500\n",
      "390    0.008200\n",
      "780    0.003367\n",
      "316    0.002267\n",
      "326    0.002067\n",
      "Name: BILL_AMT4, dtype: float64 \n",
      " NumUnique: 21548 \n",
      "\n",
      "\"BILL_AMT5\" Value Counts:\n",
      " 0      0.116867\n",
      "390    0.007833\n",
      "780    0.003133\n",
      "316    0.002633\n",
      "326    0.002067\n",
      "Name: BILL_AMT5, dtype: float64 \n",
      " NumUnique: 21010 \n",
      "\n",
      "\"BILL_AMT6\" Value Counts:\n",
      " 0      0.134000\n",
      "390    0.006900\n",
      "780    0.002867\n",
      "150    0.002600\n",
      "316    0.002567\n",
      "Name: BILL_AMT6, dtype: float64 \n",
      " NumUnique: 20604 \n",
      "\n",
      "\"PAY_AMT1\" Value Counts:\n",
      " 0       0.174967\n",
      "2000    0.045433\n",
      "3000    0.029700\n",
      "5000    0.023267\n",
      "1500    0.016900\n",
      "Name: PAY_AMT1, dtype: float64 \n",
      " NumUnique: 7943 \n",
      "\n",
      "\"PAY_AMT2\" Value Counts:\n",
      " 0       0.179867\n",
      "2000    0.043000\n",
      "3000    0.028567\n",
      "5000    0.023900\n",
      "1000    0.019800\n",
      "Name: PAY_AMT2, dtype: float64 \n",
      " NumUnique: 7899 \n",
      "\n",
      "\"PAY_AMT3\" Value Counts:\n",
      " 0       0.198933\n",
      "2000    0.042833\n",
      "1000    0.036767\n",
      "3000    0.029000\n",
      "5000    0.024033\n",
      "Name: PAY_AMT3, dtype: float64 \n",
      " NumUnique: 7518 \n",
      "\n",
      "\"PAY_AMT4\" Value Counts:\n",
      " 0       0.213600\n",
      "1000    0.046467\n",
      "2000    0.040467\n",
      "3000    0.029567\n",
      "5000    0.027000\n",
      "Name: PAY_AMT4, dtype: float64 \n",
      " NumUnique: 6937 \n",
      "\n",
      "\"PAY_AMT5\" Value Counts:\n",
      " 0       0.223433\n",
      "1000    0.044667\n",
      "2000    0.044100\n",
      "3000    0.031567\n",
      "5000    0.027133\n",
      "Name: PAY_AMT5, dtype: float64 \n",
      " NumUnique: 6897 \n",
      "\n",
      "\"PAY_AMT6\" Value Counts:\n",
      " 0       0.239100\n",
      "1000    0.043300\n",
      "2000    0.043167\n",
      "3000    0.030467\n",
      "5000    0.026933\n",
      "Name: PAY_AMT6, dtype: float64 \n",
      " NumUnique: 6939 \n",
      "\n",
      "\"DEFAULT\" Value Counts:\n",
      " 0    0.7788\n",
      "1    0.2212\n",
      "Name: DEFAULT, dtype: float64 \n",
      " NumUnique: 2 \n",
      "\n"
     ]
    }
   ],
   "source": [
    "print(df.shape, '\\n')\n",
    "# df.info()\n",
    "# df.describe()\n",
    "for col in df.columns:    # loop through columns\n",
    "    print(f'\"{col}\" Value Counts:\\n',\n",
    "          df[col].value_counts(normalize=True).head(),\n",
    "          '\\n NumUnique:', df[col].nunique(), '\\n')\n",
    "# ascending = True for extraneous values"
   ]
  },
  {
   "cell_type": "markdown",
   "metadata": {},
   "source": [
    "Notes on df.info():\n",
    "- all dtypes are int64\n",
    "- no proper missing values\n",
    "\n",
    "Notes on df.describe() and value counts:\n",
    "- 78% default\n",
    "- 60% women\n",
    "- education: 47% grad school, 35% university, 16% high school, 1% 5 (unknown value), .5% others (4)\n",
    "- marriage: 53% single, 46% married, 1% others, .2% 0 (unknown value)\n",
    "- pay_i: 50-55% 0, 18-20% paid on time (-1)"
   ]
  },
  {
   "cell_type": "code",
   "execution_count": 64,
   "metadata": {
    "ExecuteTime": {
     "end_time": "2021-02-09T22:00:26.062495Z",
     "start_time": "2021-02-09T22:00:26.036005Z"
    }
   },
   "outputs": [
    {
     "name": "stdout",
     "output_type": "stream",
     "text": [
      "\"SEX\" Unique:\n",
      " [0 1] \n",
      "\n",
      "\"EDUCATION\" Unique:\n",
      " [2 1 3 5 4 6 0] \n",
      "\n",
      "\"MARRIAGE\" Unique:\n",
      " [1 2 3 0] \n",
      "\n",
      "\"PAY_5\" Unique:\n",
      " [-2  0 -1  2  3  5  4  7  8  6] \n",
      "\n",
      "\"PAY_6\" Unique:\n",
      " [-2  2  0 -1  3  6  4  7  8  5] \n",
      "\n",
      "\"DEFAULT\" Unique:\n",
      " [1 0] \n",
      "\n"
     ]
    }
   ],
   "source": [
    "for col in df.columns: # loop through columns\n",
    "    if len(df[col].unique()) <= 10:\n",
    "        print(f'\"{col}\" Unique:\\n', df[col].unique(), '\\n')"
   ]
  },
  {
   "cell_type": "markdown",
   "metadata": {},
   "source": [
    "- For EDUCATION and MARRIAGE, 0 likely means missing/unknown data. Very few rows have these values so we will drop\n",
    "- For EDUCATION, 5 and 6 are unknown/unspecified values. Very few rows have these values so we will drop these too.\n",
    "- For PAY_i, -2 is unspecified. Many rows have these values, so we will keep."
   ]
  },
  {
   "cell_type": "markdown",
   "metadata": {},
   "source": [
    "### Remove missing/unknown values"
   ]
  },
  {
   "cell_type": "code",
   "execution_count": 65,
   "metadata": {
    "ExecuteTime": {
     "end_time": "2021-02-09T22:00:26.089483Z",
     "start_time": "2021-02-09T22:00:26.064510Z"
    }
   },
   "outputs": [
    {
     "data": {
      "text/plain": [
       "29601"
      ]
     },
     "execution_count": 65,
     "metadata": {},
     "output_type": "execute_result"
    }
   ],
   "source": [
    "df = df.loc[(df['EDUCATION'] != 0) & (df['MARRIAGE'] != 0)\n",
    "                    & (df['EDUCATION'] != 5) & (df['EDUCATION'] != 6)]\n",
    "len(df)"
   ]
  },
  {
   "cell_type": "code",
   "execution_count": null,
   "metadata": {},
   "outputs": [],
   "source": [
    "df.to_csv('data/clean_data.csv')"
   ]
  },
  {
   "cell_type": "code",
   "execution_count": null,
   "metadata": {},
   "outputs": [],
   "source": []
  },
  {
   "cell_type": "code",
   "execution_count": null,
   "metadata": {},
   "outputs": [],
   "source": []
  },
  {
   "cell_type": "markdown",
   "metadata": {},
   "source": [
    "Notes:\n",
    "- link data set in readme"
   ]
  },
  {
   "cell_type": "code",
   "execution_count": null,
   "metadata": {},
   "outputs": [],
   "source": []
  },
  {
   "cell_type": "code",
   "execution_count": 133,
   "metadata": {
    "ExecuteTime": {
     "end_time": "2021-02-11T05:11:57.541961Z",
     "start_time": "2021-02-11T05:11:57.371987Z"
    },
    "scrolled": true
   },
   "outputs": [
    {
     "data": {
      "image/png": "[encoded data removed]",
      "text/plain": [
       "<Figure size 432x288 with 2 Axes>"
      ]
     },
     "metadata": {
      "needs_background": "light"
     },
     "output_type": "display_data"
    }
   ],
   "source": [
    "mask = np.zeros_like(df[['DEFAULT','BILL_AMT1','PAY_AMT1']].corr())\n",
    "mask[np.triu_indices_from(mask)] = True\n",
    "sns.axes_style(\"white\")\n",
    "f, ax = plt.subplots()\n",
    "ax = sns.heatmap(df[['DEFAULT','BILL_AMT1','PAY_AMT1']].corr(), mask=mask, cmap='coolwarm',\n",
    "                     linewidths=.5, annot=True, vmin = -1, vmax=1, cbar_kws = {\"shrink\": .75})"
   ]
  },
  {
   "cell_type": "markdown",
   "metadata": {},
   "source": [
    "### Extra Notes"
   ]
  },
  {
   "cell_type": "code",
   "execution_count": null,
   "metadata": {
    "ExecuteTime": {
     "end_time": "2021-02-11T04:56:15.146183Z",
     "start_time": "2021-02-11T04:56:15.035357Z"
    }
   },
   "outputs": [],
   "source": [
    "def categorize_columns(df, cols, current_vals, new_vals):\n",
    "    for col in cols:\n",
    "        df[col] = df[col].replace(dict(zip(current_vals, new_vals)))\n",
    "    return df"
   ]
  }
 ],
 "metadata": {
  "kernelspec": {
   "display_name": "Python 3",
   "language": "python",
   "name": "python3"
  },
  "language_info": {
   "codemirror_mode": {
    "name": "ipython",
    "version": 3
   },
   "file_extension": ".py",
   "mimetype": "text/x-python",
   "name": "python",
   "nbconvert_exporter": "python",
   "pygments_lexer": "ipython3",
   "version": "3.8.5"
  },
  "toc": {
   "base_numbering": 1,
   "nav_menu": {},
   "number_sections": false,
   "sideBar": true,
   "skip_h1_title": true,
   "title_cell": "Table of Contents",
   "title_sidebar": "Contents",
   "toc_cell": false,
   "toc_position": {},
   "toc_section_display": true,
   "toc_window_display": true
  }
 },
 "nbformat": 4,
 "nbformat_minor": 4
}
